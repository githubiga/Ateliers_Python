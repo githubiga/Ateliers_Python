{
 "cells": [
  {
   "cell_type": "markdown",
   "metadata": {},
   "source": [
    "# Langage Python : Exercices d'application\n",
    "\n",
    "Email : <a href='mailto:madani.a@ucd.ac.ma'>madani.a@ucd.ac.ma</a>"
   ]
  },
  {
   "cell_type": "markdown",
   "metadata": {},
   "source": [
    "## Exercice 1 : Variables, entrées/sorties"
   ]
  },
  {
   "cell_type": "markdown",
   "metadata": {},
   "source": [
    "A partir de trois notes et de leurs coefficients respectifs, calculer puis afficher la moyenne avec deux chiffres après la virgule."
   ]
  },
  {
   "cell_type": "code",
   "execution_count": null,
   "metadata": {},
   "outputs": [],
   "source": [
    "note1 = float(input('Donnez la note 1:'))\n",
    "coeff1 = float(input('Donnez le coefficient 1:'))\n",
    "note2 = float(input('Donnez la note 2:'))\n",
    "coeff2 = float(input('Donnez le coefficient 2:'))\n",
    "note3 = float(input('Donnez la note 3:'))\n",
    "coeff3 = float(input('Donnez le coefficient 3:'))\n",
    "moyenne = (coeff1*note1 + coeff2*note2 + coeff3*note3)/(coeff1 + coeff2 + coeff3)\n",
    "print(\"La moyenne est {:.2f}\".format(moyenne))"
   ]
  },
  {
   "cell_type": "markdown",
   "metadata": {},
   "source": [
    "## Exercice 2 : Tests"
   ]
  },
  {
   "cell_type": "markdown",
   "metadata": {},
   "source": [
    "Dans un dictionnaire, pour ordonner des mots on utilise l’ordre lexicographique. Donner un programme pour saisir deux mots (chaînes de caractères) et de les afficher dans l’ordre lexicographique. Utiliser deux méthodes, l’une avec l’instruction if … else …., l’autre avec l’instruction ternaire : < result > = < a > if < condition > else < b >"
   ]
  },
  {
   "cell_type": "code",
   "execution_count": null,
   "metadata": {},
   "outputs": [],
   "source": [
    "#Exercice 2 : Méthode 1 \n",
    "chaine1 = input(\"Donnez une chaine :\") \n",
    "chaine2 = input(\"Donnez une autre chaine :\") \n",
    "if chaine1<=chaine2: \n",
    "    print(chaine1,chaine2) \n",
    "else: \n",
    "    print(chaine2,chaine1)"
   ]
  },
  {
   "cell_type": "code",
   "execution_count": null,
   "metadata": {},
   "outputs": [],
   "source": [
    "#Exercice 2 : Méthode 2 \n",
    "chaine1 = input(\"Donnez une chaine :\") \n",
    "chaine2 = input(\"Donnez une autre chaine :\") \n",
    "result = chaine1+\" \"+chaine2 if chaine1<=chaine2 else chaine2+\" \"+chaine1 \n",
    "print(result)"
   ]
  },
  {
   "cell_type": "markdown",
   "metadata": {},
   "source": [
    "## Exercice 3 : Tests"
   ]
  },
  {
   "cell_type": "markdown",
   "metadata": {},
   "source": [
    "<p>Ecrire un programme pour saisir un réel, ensuite affiche sa racine carrée s’il est positif ou nul, sinon affiche un message d’erreur </p>\n",
    "<p>\n",
    "<b><u>Indication</u></b> : Utiliser la fonction sqrt() du module math. \n",
    "</p>\n",
    "<p>\n",
    "Par exemple : from math import sqrt r = sqrt(a)</p>"
   ]
  },
  {
   "cell_type": "code",
   "execution_count": null,
   "metadata": {},
   "outputs": [],
   "source": [
    "import math \n",
    "a = float(input(\"Donnez un entier:\")) \n",
    "if a>=0: \n",
    "    racine = math.sqrt(a) \n",
    "    print(\"La racine carrée de \",a,' est :',racine) \n",
    "else: \n",
    "    print(\"Le nombre \",a,\" est négatif\")"
   ]
  },
  {
   "cell_type": "markdown",
   "metadata": {},
   "source": [
    "## Exercice 4 : Boucles"
   ]
  },
  {
   "cell_type": "markdown",
   "metadata": {},
   "source": [
    "Ecrire un programme permettant de calculer la somme de tous les nombres impairs entre deux\n",
    "valeurs N et M."
   ]
  },
  {
   "cell_type": "code",
   "execution_count": null,
   "metadata": {},
   "outputs": [],
   "source": [
    "N = int(input(\"Donnez un entier:\"))\n",
    "M = int(input(\"Donnez un autre entier:\"))\n",
    "som=0\n",
    "if N>M:\n",
    "    temp=N\n",
    "    N=M\n",
    "    M=temp\n",
    "for i in range(N,M+1):\n",
    "    som+=i\n",
    "print(\"La somme de {} et {} est {}\".format(N,M,som))\n",
    "print(\"La somme de\",N,\"et\",M,\"est\",som)"
   ]
  },
  {
   "cell_type": "markdown",
   "metadata": {},
   "source": [
    "## Exercice 5 : Fonctions"
   ]
  },
  {
   "cell_type": "markdown",
   "metadata": {},
   "source": [
    "Ecrire une fonction compterMots ayant un argument chaîne de caractères et renvoie un dictionnaire qui contient pour chaque mot sa fréquence."
   ]
  },
  {
   "cell_type": "code",
   "execution_count": null,
   "metadata": {},
   "outputs": [],
   "source": [
    "def term_frequency(phrase):\n",
    "    result={}\n",
    "    tab = phrase.split()\n",
    "    for element in tab:\n",
    "        result[element]=tab.count(element)\n",
    "    return result"
   ]
  },
  {
   "cell_type": "code",
   "execution_count": null,
   "metadata": {},
   "outputs": [],
   "source": [
    "term_frequency(\"Bonjour tout le monde\")"
   ]
  },
  {
   "cell_type": "markdown",
   "metadata": {},
   "source": [
    "## Exercice 5 : Conteneurs standards\n",
    "Définir la liste : liste = [17, 38, 10, 25, 72, 50, 80, 12, 45], puis effectuer les actions suivantes :\n",
    "<ol>\n",
    "    <li>Trier et afficher la liste</li>\n",
    "    <li>Ajouter l’élément 12 à la fin de la liste et afficher la liste</li>\n",
    "    <li>Ajouter l’élément 12 au milieu de la liste et afficher la liste</li>\n",
    "    <li>Ajouter l’élément 12 au début de la liste et afficher la liste</li>\n",
    "    <li>Renverser et afficher la liste</li>\n",
    "    <li>Afficher l’indice de l’élément 17</li>\n",
    "    <li>Enlever l’élément 30 et afficher la liste</li>\n",
    "    <li>Afficher la sous-liste du 2ème au 5ème élément</li>\n",
    "    <li>Afficher la sous-liste du 2ème au dernier élément</li>\n",
    "    <li>Afficher la sous-liste du début au 3ème élément</li>\n",
    "    <li>Vérifier l’appartenance de l’élément 25 dans la liste</li>\n",
    "</ol>"
   ]
  },
  {
   "cell_type": "code",
   "execution_count": null,
   "metadata": {},
   "outputs": [],
   "source": [
    "liste = [17, 38, 10, 25, 72, 50, 80, 12, 45]\n",
    "#Trier et afficher la liste\n",
    "liste.sort()\n",
    "print(\"Liste triée\", liste)\n",
    "#Ajouter un élément à la fin\n",
    "liste.append(12)\n",
    "print(\"Liste après ajout de 12 à la fin\", liste)\n",
    "#Ajouter un élément au début\n",
    "liste.insert(0, 100)\n",
    "print(\"Liste après ajout de 12 au début\", liste)\n",
    "#Ajouter un élément à l'indice 3\n",
    "liste.insert(3, 100)\n",
    "print(\"Liste après ajout de 12 à la position 3\", liste)\n",
    "#Renverser et afficher la liste\n",
    "liste.reverse()\n",
    "print(\"Linste inversée\", liste)\n",
    "#Indice de 12\n",
    "ind = liste.index(12)\n",
    "print(\"L'indice de 17 est\", ind)\n",
    "#Les indices de 12\n",
    "n=len(liste)\n",
    "for i in range(n):\n",
    "    if liste[i]==12:\n",
    "        print(\"indice\",i)\n",
    "#Supprimer 12\n",
    "liste.remove(12)\n",
    "print(\"Liste après suppression de 17\", liste)\n",
    "#les éléments entre 2ème élément et 5ème élement\n",
    "print(\"les éléments entre 2ème élément et 5ème élement\",liste[1:5])\n",
    "#les éléments entre 2ème élément au derniert\n",
    "print(\"les éléments entre 2ème élément au dernier\",liste[1:])\n",
    "#les éléments entre 1er élément au 3ème\n",
    "print(\"les éléments entre 1er élément au 3ème\",liste[:3])\n",
    "#25 appartient à la liste\n",
    "existe = 25 in liste\n",
    "if existe:\n",
    "    print(\"25 existe dans la liste\")\n",
    "else:\n",
    "    print(\"25 n'existe pas dans la liste\")"
   ]
  },
  {
   "cell_type": "markdown",
   "metadata": {},
   "source": [
    "## Exercice 6 : Fonctions et conteneurs standards\n",
    "Ecrire les fonctions suivantes :\n",
    "<ol>\n",
    "    <li>remove_punctuation(phrase) : pour éliminer la ponctuation d'une chaîne de caractères ('?' , '!', ',' , '.' , ':' , ';')</li>\n",
    "    <li>lowercase(phrase) : pour convertir une chaîne de caractères en minuscule</li>\n",
    "    <li>term_frequency(phrase) : pour retourner un dictionnaire contenant pour chaque mot sa fréquence</li>\n",
    "    <li>preprocessing(chaine) : qui fait appel aux fonctions ci-dessus</li>\n",
    "    <li>refaire le preprocessing pour un fichier stocké sur le disque</li>\n",
    "</ol> "
   ]
  },
  {
   "cell_type": "code",
   "execution_count": null,
   "metadata": {},
   "outputs": [],
   "source": [
    "def remove_puntuation(phrase):\n",
    "    pont = {'?' , '!', ',' , '.' , ':' , ';'}\n",
    "    result=\"\"\n",
    "    for car in phrase:\n",
    "        if car not in pont:\n",
    "            result=result+car\n",
    "    return result"
   ]
  },
  {
   "cell_type": "code",
   "execution_count": null,
   "metadata": {},
   "outputs": [],
   "source": [
    "phrase=\"Bonjour, tout. le monde!\"\n",
    "remove_puntuation(phrase)"
   ]
  },
  {
   "cell_type": "code",
   "execution_count": null,
   "metadata": {},
   "outputs": [],
   "source": [
    "def lowercase(phrase):\n",
    "    return phrase.lower()"
   ]
  },
  {
   "cell_type": "code",
   "execution_count": null,
   "metadata": {},
   "outputs": [],
   "source": [
    "lowercase(phrase)"
   ]
  },
  {
   "cell_type": "code",
   "execution_count": null,
   "metadata": {},
   "outputs": [],
   "source": [
    "def term_frequency(phrase):\n",
    "    result={}\n",
    "    tab = phrase.split()\n",
    "    for element in tab:\n",
    "        result[element]=tab.count(element)\n",
    "    return result"
   ]
  },
  {
   "cell_type": "code",
   "execution_count": null,
   "metadata": {},
   "outputs": [],
   "source": [
    "def preprocessing(phrase):\n",
    "    phrase = remove_puntuation(phrase)\n",
    "    phrase = lowercase(phrase)\n",
    "    result = term_frequency(phrase)\n",
    "    return result"
   ]
  },
  {
   "cell_type": "code",
   "execution_count": null,
   "metadata": {},
   "outputs": [],
   "source": [
    "phrase=\"Bonjour. tout le monde, et Bonsoir le monde\"\n",
    "preprocessing(phrase)"
   ]
  },
  {
   "cell_type": "code",
   "execution_count": null,
   "metadata": {},
   "outputs": [],
   "source": [
    "def preprocessing2(fichier):\n",
    "    f=open(fichier,\"r\",encoding=\"utf8\")\n",
    "    content = f.read()\n",
    "    \n",
    "    f.close()\n",
    "    content = remove_puntuation(content)\n",
    "    content = lowercase(content)\n",
    "    result = term_frequency(content)\n",
    "    return result"
   ]
  },
  {
   "cell_type": "code",
   "execution_count": null,
   "metadata": {},
   "outputs": [],
   "source": [
    "preprocessing2(\"document.txt\")"
   ]
  },
  {
   "cell_type": "code",
   "execution_count": null,
   "metadata": {},
   "outputs": [],
   "source": [
    "from nltk.corpus import stopwords\n",
    "def remove_puntuation(phrase):\n",
    "    liste=[]\n",
    "    stop = set(stopwords.words(\"french\"))\n",
    "    tab = phrase.split()\n",
    "    for element in tab:\n",
    "        if element not in stop:\n",
    "            liste.append(element)\n",
    "    return liste"
   ]
  },
  {
   "cell_type": "code",
   "execution_count": null,
   "metadata": {},
   "outputs": [],
   "source": [
    "remove_puntuation(phrase)"
   ]
  },
  {
   "cell_type": "markdown",
   "metadata": {},
   "source": [
    "## Exercice 7 : Conteneurs standards\n",
    "A partir du DataSet \"Movies.csv\", afficher :\n",
    "1.\tLes noms des films\n",
    "2.\tLes films commençant par 'The'\n",
    "3.\tLes films produits en une année donnée\n",
    "4.\tLe nombre de films produits en une année donnée"
   ]
  },
  {
   "cell_type": "code",
   "execution_count": null,
   "metadata": {},
   "outputs": [],
   "source": [
    "f = open(\"movies.csv\",\"r\",encoding=\"utf8\")\n",
    "for ligne in f:\n",
    "    ligne = ligne.strip()\n",
    "    tab = ligne.split(\",\")\n",
    "    nom = tab[1]\n",
    "    print(nom)\n",
    "f.close()"
   ]
  },
  {
   "cell_type": "code",
   "execution_count": null,
   "metadata": {},
   "outputs": [],
   "source": [
    "f = open(\"movies.csv\",\"r\",encoding=\"utf8\")\n",
    "for ligne in f:\n",
    "    ligne = ligne.strip()\n",
    "    tab = ligne.split(\",\")\n",
    "    nom = tab[1]\n",
    "    if nom.startswith(\"The \"):\n",
    "        print(nom)\n",
    "f.close()"
   ]
  },
  {
   "cell_type": "code",
   "execution_count": null,
   "metadata": {},
   "outputs": [],
   "source": [
    "date = input(\"Donne la date:\")\n",
    "f = open(\"movies.csv\",\"r\",encoding=\"utf8\")\n",
    "nbre = 0\n",
    "for ligne in f:\n",
    "    ligne = ligne.strip()\n",
    "    tab = ligne.split(\",\")\n",
    "    nom = tab[1]\n",
    "    if nom.endswith(\"(\"+date+\")\"):\n",
    "        nbre+=1\n",
    "        print(nom)\n",
    "f.close()\n",
    "print(\"Le nombre de films produits en\",date,\" est \", nbre)"
   ]
  },
  {
   "cell_type": "markdown",
   "metadata": {},
   "source": [
    "## Exercice 8 : Similarité entre deux chaines de caractères en utilisant le coefficient de Jaccard"
   ]
  },
  {
   "cell_type": "markdown",
   "metadata": {},
   "source": [
    "<p>Utiliser les ensembles pour calculer le score de similarité entre deux phrases avec la méthode du coefficient de Jaccard</p>\n",
    "<p>\n",
    "Refaire la question précédente pour calculer la similarité entre deux fichiers donnés.</p>\n",
    "<p>\n",
    "    <b><u>Indication</u></b> : <br>\n",
    "    <p>Le coefficient de Jaccard est un nombre entre 0 et 1, où 1 indique une plus grande similarité. </p>\n",
    " <p>Le calcul est basé sur le nombre d'éléments communs dans les deux phrases. La formule est la suivante : \n",
    "    </p>\n",
    "    <p>𝑐𝑜𝑒𝑓𝑓𝑖𝑐𝑐𝑖𝑒𝑛𝑡= 𝑛𝑜𝑚𝑏𝑟𝑒 𝑑𝑒 𝑚𝑜𝑡𝑠 𝑐𝑜𝑚𝑚𝑢𝑛𝑠𝑛𝑜𝑚𝑏𝑟𝑒 𝑡𝑜𝑡𝑙𝑎 𝑑𝑒 𝑚𝑜𝑡𝑠</p>\n",
    "    <p>Par exemple, si nous prenons les deux phrases \"Bonjour Alami\" et \"Bonsoir Alami\", le coefficient est 1/3 = 0.66</p>"
   ]
  },
  {
   "cell_type": "code",
   "execution_count": null,
   "metadata": {},
   "outputs": [],
   "source": [
    "ph1 = \"Bonjour tout le monde\"\n",
    "ph2 = \"Bonsoir tout le monde\"\n",
    "L1 = ph1.split()\n",
    "L2 = ph2.split()\n",
    "S1 = set(L1)\n",
    "S2 = set(L2)\n",
    "coeff = len(S1&S2)/len(S1|S2)\n",
    "coeff"
   ]
  }
 ],
 "metadata": {
  "kernelspec": {
   "display_name": "Python 3",
   "language": "python",
   "name": "python3"
  },
  "language_info": {
   "codemirror_mode": {
    "name": "ipython",
    "version": 3
   },
   "file_extension": ".py",
   "mimetype": "text/x-python",
   "name": "python",
   "nbconvert_exporter": "python",
   "pygments_lexer": "ipython3",
   "version": "3.8.8"
  }
 },
 "nbformat": 4,
 "nbformat_minor": 4
}
